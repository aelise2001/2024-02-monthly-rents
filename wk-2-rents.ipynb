{
 "cells": [
  {
   "cell_type": "code",
   "execution_count": 1,
   "id": "7b975ca3",
   "metadata": {},
   "outputs": [
    {
     "data": {
      "text/plain": [
       "71200.77777777778"
      ]
     },
     "execution_count": 1,
     "metadata": {},
     "output_type": "execute_result"
    }
   ],
   "source": [
    "700/900 + 1_200 + 700 * 100"
   ]
  },
  {
   "cell_type": "code",
   "execution_count": 2,
   "id": "780ac526",
   "metadata": {},
   "outputs": [
    {
     "data": {
      "text/plain": [
       "25.0"
      ]
     },
     "execution_count": 2,
     "metadata": {},
     "output_type": "execute_result"
    }
   ],
   "source": [
    "700/(900+1_200+700)* 100"
   ]
  },
  {
   "cell_type": "code",
   "execution_count": 3,
   "id": "da6dbc5a",
   "metadata": {},
   "outputs": [],
   "source": [
    "#assign values to variables\n",
    "alfred_monthly_23= 900\n",
    "fatima_monthly_23= 1_200\n",
    "trina_monthly_23= 700"
   ]
  },
  {
   "cell_type": "code",
   "execution_count": 4,
   "id": "6b88beda",
   "metadata": {},
   "outputs": [],
   "source": [
    "## can also assign like this :\n",
    "alfred_m,fatima_m,trina_m = 900,1_200, 700"
   ]
  },
  {
   "cell_type": "code",
   "execution_count": 10,
   "id": "3e5c86c0",
   "metadata": {},
   "outputs": [
    {
     "data": {
      "text/plain": [
       "900"
      ]
     },
     "execution_count": 10,
     "metadata": {},
     "output_type": "execute_result"
    }
   ],
   "source": [
    "## call variables\n",
    "alfred_m\n",
    "fatima_monthly_23\n",
    "trina_m"
   ]
  },
  {
   "cell_type": "code",
   "execution_count": 12,
   "id": "4eb4103d",
   "metadata": {},
   "outputs": [
    {
     "data": {
      "text/plain": [
       "25.0"
      ]
     },
     "execution_count": 12,
     "metadata": {},
     "output_type": "execute_result"
    }
   ],
   "source": [
    "## calculate trina's share using variables\n",
    "trina_monthly_23/(alfred_monthly_23+fatima_monthly_23+trina_monthly_23)*100"
   ]
  },
  {
   "cell_type": "code",
   "execution_count": 15,
   "id": "d9b18769",
   "metadata": {},
   "outputs": [
    {
     "data": {
      "text/plain": [
       "25.0"
      ]
     },
     "execution_count": 15,
     "metadata": {},
     "output_type": "execute_result"
    }
   ],
   "source": [
    "## place result into variable \n",
    "trina_share_23 = trina_monthly_23/(alfred_monthly_23+fatima_monthly_23+trina_monthly_23)*100\n",
    "trina_share_23"
   ]
  },
  {
   "cell_type": "code",
   "execution_count": 16,
   "id": "84da60d4",
   "metadata": {},
   "outputs": [],
   "source": [
    "## easier to read\n",
    "trina_share_23 = \\\n",
    "trina_monthly_23/(alfred_monthly_23+\\\n",
    "                  fatima_monthly_23+\\\n",
    "                  trina_monthly_23)*100"
   ]
  },
  {
   "cell_type": "code",
   "execution_count": 18,
   "id": "ac74f26e",
   "metadata": {},
   "outputs": [
    {
     "data": {
      "text/plain": [
       "(25.0, 900, 1200)"
      ]
     },
     "execution_count": 18,
     "metadata": {},
     "output_type": "execute_result"
    }
   ],
   "source": [
    "## call it\n",
    "trina_share_23, alfred_monthly_23 , fatima_monthly_23"
   ]
  },
  {
   "cell_type": "code",
   "execution_count": null,
   "id": "8b90be7e",
   "metadata": {},
   "outputs": [],
   "source": []
  }
 ],
 "metadata": {
  "kernelspec": {
   "display_name": "Python 3 (ipykernel)",
   "language": "python",
   "name": "python3"
  },
  "language_info": {
   "codemirror_mode": {
    "name": "ipython",
    "version": 3
   },
   "file_extension": ".py",
   "mimetype": "text/x-python",
   "name": "python",
   "nbconvert_exporter": "python",
   "pygments_lexer": "ipython3",
   "version": "3.11.5"
  }
 },
 "nbformat": 4,
 "nbformat_minor": 5
}
